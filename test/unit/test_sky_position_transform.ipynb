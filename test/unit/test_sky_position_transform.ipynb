{
 "cells": [
  {
   "cell_type": "code",
   "execution_count": null,
   "metadata": {},
   "outputs": [],
   "source": [
    "import jax\n",
    "import jax.numpy as jnp\n",
    "\n",
    "import numpy as np\n",
    "\n",
    "jax.config.update(\"jax_enable_x64\", True)"
   ]
  },
  {
   "cell_type": "markdown",
   "metadata": {},
   "source": [
    "This is the notebook comparing all inner functions of `SkyFrameToDetectorFrameSkyPositionTransform` in `Jim` and the corresponding functions in `bilby`. "
   ]
  },
  {
   "cell_type": "markdown",
   "metadata": {},
   "source": [
    "The following is the test comparing `theta_phi_to_ra_dec` in `jim` and that in `bilby`.\n",
    "See [bilby's lines](<https://git.ligo.org/lscsoft/bilby/-/blob/c6bcb81649b7ebf97ae6e1fd689e8712fe028eb0/bilby/core/utils/conversion.py#:~:text=def-,theta_phi_to_ra_dec,-(theta%2C>)"
   ]
  },
  {
   "cell_type": "code",
   "execution_count": 2,
   "metadata": {},
   "outputs": [
    {
     "name": "stdout",
     "output_type": "stream",
     "text": [
      "mean_ra_diff [0.]\n",
      "mean_dec_diff [0.]\n"
     ]
    }
   ],
   "source": [
    "# test theta_phi_to_ra_dec in inverse transform\n",
    "from jimgw.single_event.utils import theta_phi_to_ra_dec as jim_theta_phi_to_ra_dec\n",
    "from bilby.core.utils import theta_phi_to_ra_dec as bilby_theta_phi_to_ra_dec\n",
    "\n",
    "key = jax.random.PRNGKey(42)\n",
    "\n",
    "tol_diff_ra = 0\n",
    "tol_diff_dec = 0\n",
    "\n",
    "for _ in range(100):\n",
    "    key, subkey = jax.random.split(key)\n",
    "    subkeys = jax.random.split(subkey, 3)\n",
    "    theta = jax.random.uniform(subkeys[0], (1,), minval=0, maxval=jnp.pi)\n",
    "    phi = jax.random.uniform(subkeys[1], (1,), minval=0, maxval= jnp.pi)\n",
    "    gmst = jax.random.uniform(subkeys[2], (1,), minval=0, maxval=2 * jnp.pi)   \n",
    "\n",
    "    jim_ra, jim_dec = jim_theta_phi_to_ra_dec(theta, phi, gmst)\n",
    "    bilby_ra, bilby_dec = bilby_theta_phi_to_ra_dec(theta, phi, gmst)\n",
    "    bilby_ra = bilby_ra % (2 * jnp.pi)\n",
    "    diff_ra = jnp.abs(jim_ra - bilby_ra)\n",
    "    diff_dec = jnp.abs(jim_dec - bilby_dec)\n",
    "    tol_diff_ra += diff_ra\n",
    "    tol_diff_dec += diff_dec\n",
    "    \n",
    "    assert jnp.allclose(jim_ra,bilby_ra, atol=1e-5), f\"jim_ra: {jim_ra}, bilby_ra: {bilby_ra}\"\n",
    "    assert jnp.allclose(jim_dec,bilby_dec, atol=1e-5), f\"jim_dec: {jim_dec}, bilby_dec: {bilby_dec}\"\n",
    "\n",
    "mean_ra_diff = tol_diff_ra / 100\n",
    "mean_dec_diff = tol_diff_dec / 100\n",
    "print(\"mean_ra_diff\", mean_ra_diff)\n",
    "print(\"mean_dec_diff\", mean_dec_diff)"
   ]
  },
  {
   "cell_type": "markdown",
   "metadata": {},
   "source": [
    "The following is the test comparing `angle_rotation` in `jim` and `zenith_azimuth_to_theta_phi` in `bilby`. See [bilby's lines](https://git.ligo.org/colm.talbot/bilby-cython/-/blob/main/bilby_cython/geometry.pyx?ref_type=heads#:~:text=zenith_azimuth_to_theta_phi)"
   ]
  },
  {
   "cell_type": "code",
   "execution_count": 3,
   "metadata": {},
   "outputs": [
    {
     "name": "stdout",
     "output_type": "stream",
     "text": [
      "mean_diff_theta 5.2735593669694933e-17\n",
      "mean_diff_phi 5.773159728050814e-17\n"
     ]
    }
   ],
   "source": [
    "# test angle rotation\n",
    "from jimgw.single_event.utils import angle_rotation as jim_angle_rotation\n",
    "from jimgw.single_event.utils import euler_rotation \n",
    "from bilby_cython.geometry import zenith_azimuth_to_theta_phi as bibly_angle_rotation\n",
    "from bilby_cython.geometry import rotation_matrix_from_delta \n",
    "\n",
    "tol_diff_theta = 0\n",
    "tol_diff_phi = 0\n",
    "\n",
    "for _ in range(100):\n",
    "    zenith = np.random.uniform(0, np.pi)\n",
    "    azimuth = np.random.uniform(0, 2 * np.pi)\n",
    "    delta_x = np.random.uniform(0, 1, size=3)\n",
    "    \n",
    "    # Ensure rotation matrix are the same\n",
    "    jim_rot = euler_rotation(delta_x)\n",
    "    bilby_rot = rotation_matrix_from_delta(delta_x)\n",
    "    \n",
    "    assert jnp.allclose(jim_rot, bilby_rot), f\"jim_rot: {jim_rot}, bilby_rot: {bilby_rot}\"\n",
    "\n",
    "    jim_theta, jim_phi= jim_angle_rotation(zenith, azimuth, jim_rot)\n",
    "    bilby_out = bibly_angle_rotation(zenith, azimuth, delta_x)\n",
    " \n",
    "    diff_theta = jnp.abs(jim_theta - bilby_out[0])\n",
    "    diff_phi = jnp.abs(jim_phi - bilby_out[1])\n",
    "    \n",
    "    tol_diff_theta += diff_theta\n",
    "    tol_diff_phi += diff_phi\n",
    "    \n",
    "    assert jnp.allclose(jim_theta, bilby_out[0]), f\"jim_theta: {jim_theta}, bilby_theta: {bilby_out[0]}\"\n",
    "    assert jnp.allclose(jim_phi, bilby_out[1]), f\"jim_phi: {jim_phi}, bilby_phi: {bilby_out[1]}\"\n",
    "\n",
    "mean_diff_theta = tol_diff_theta / 100\n",
    "mean_diff_phi = tol_diff_phi / 100\n",
    "print(\"mean_diff_theta\", mean_diff_theta)\n",
    "print(\"mean_diff_phi\", mean_diff_phi)"
   ]
  },
  {
   "cell_type": "markdown",
   "metadata": {},
   "source": [
    "The following compares `delta_x` in `Jim` and that in `bilby`"
   ]
  },
  {
   "cell_type": "code",
   "execution_count": 4,
   "metadata": {},
   "outputs": [
    {
     "name": "stdout",
     "output_type": "stream",
     "text": [
      "diff_delta_x [1.86264515e-09 9.31322575e-10 9.31322575e-10]\n"
     ]
    }
   ],
   "source": [
    "# test delta_x\n",
    "from bilby.gw.detector import InterferometerList\n",
    "from jimgw.single_event.detector import H1, V1\n",
    "\n",
    "jim_ifos = [H1, V1]\n",
    "bilby_ifos = InterferometerList(['H1', 'V1'])\n",
    "\n",
    "delta_x_j = jim_ifos[0].vertex - jim_ifos[1].vertex\n",
    "delta_x_b = bilby_ifos[0].vertex - bilby_ifos[1].vertex\n",
    "\n",
    "print(\"diff_delta_x\", delta_x_j - delta_x_b)"
   ]
  },
  {
   "cell_type": "markdown",
   "metadata": {},
   "source": [
    "The following compares the `gmst` in `Jim` and that in `bilby`. See [bilby's lines](https://git.ligo.org/colm.talbot/bilby-cython/-/blob/main/bilby_cython/time.pyx?ref_type=heads#:~:text=greenwich_mean_sidereal_time)"
   ]
  },
  {
   "cell_type": "code",
   "execution_count": null,
   "metadata": {},
   "outputs": [
    {
     "name": "stdout",
     "output_type": "stream",
     "text": [
      "mean_diff 1.1331990468381585e-05\n"
     ]
    }
   ],
   "source": [
    "from bilby_cython.time import greenwich_mean_sidereal_time\n",
    "from astropy.time import Time\n",
    "\n",
    "tol_diff = 0\n",
    "for time in np.random.uniform(1, 10000000, 100):\n",
    "    gmst_j = Time(time, format=\"gps\").sidereal_time(\"apparent\", \"greenwich\").rad % (2 * np.pi)\n",
    "    gmst_b = greenwich_mean_sidereal_time(time)  % (2 * np.pi)\n",
    "    diff = jnp.abs(gmst_j - gmst_b)\n",
    "    tol_diff += diff\n",
    "    \n",
    "mean_diff = tol_diff / 100\n",
    "print(\"mean_diff\", mean_diff)"
   ]
  },
  {
   "cell_type": "markdown",
   "metadata": {},
   "source": [
    "The following compares the `SkyFrameToDetectorFrameSkyPositionTransform` in `Jim` and `zenith_azimuth_to_ra_dec` in `bilby`. See [bilby's lines](https://git.ligo.org/lscsoft/bilby/-/blob/c6bcb81649b7ebf97ae6e1fd689e8712fe028eb0/bilby/gw/utils.py#:~:text=zenith_azimuth_to_ra_dec)"
   ]
  },
  {
   "cell_type": "code",
   "execution_count": 6,
   "metadata": {},
   "outputs": [
    {
     "name": "stdout",
     "output_type": "stream",
     "text": [
      "mean_ra_diff [2.12414452e-05]\n",
      "mean_dec_diff [5.22915045e-16]\n"
     ]
    }
   ],
   "source": [
    "# test the transform \n",
    "from jimgw.single_event.transforms import SkyFrameToDetectorFrameSkyPositionTransform\n",
    "from bilby.gw.utils import zenith_azimuth_to_ra_dec as bilby_zenith_azimuth_to_ra_dec\n",
    "from jimgw.single_event.detector import H1, L1, V1\n",
    "import jax\n",
    "import jax.numpy as jnp\n",
    "import bilby\n",
    "\n",
    "jax.config.update(\"jax_enable_x64\", True)\n",
    "\n",
    "key = jax.random.PRNGKey(42)\n",
    "gps_time = 1126259642.413\n",
    "jim_ifos = [H1, L1]\n",
    "\n",
    "ifo_names = ['H1', 'L1']\n",
    "bilby_ifos = bilby.gw.detector.InterferometerList(ifo_names)\n",
    "\n",
    "tol_diff_dec = 0\n",
    "tol_diff_ra = 0\n",
    "\n",
    "for _ in range(100):\n",
    "    key, subkey = jax.random.split(key)\n",
    "    subkeys = jax.random.split(subkey, 2)\n",
    "    zenith = jax.random.uniform(subkeys[0], (1,), minval=0, maxval=jnp.pi)\n",
    "    azimuth = jax.random.uniform(subkeys[1], (1,), minval=0, maxval=2 * jnp.pi)\n",
    "    \n",
    "    jim_transform = SkyFrameToDetectorFrameSkyPositionTransform(\n",
    "        gps_time=gps_time,\n",
    "        ifos=jim_ifos\n",
    "    )\n",
    "    jim_outputs, _ = jim_transform.inverse(dict(zenith=zenith, azimuth=azimuth))\n",
    "    bilby_ra, bilby_dec = bilby_zenith_azimuth_to_ra_dec(zenith[0], azimuth[0], gps_time, bilby_ifos)\n",
    "    jim_ra = jim_outputs[\"ra\"]\n",
    "    jim_dec = jim_outputs[\"dec\"]\n",
    "    \n",
    "    diff_ra = jnp.abs(jim_ra - bilby_ra)\n",
    "    diff_dec = jnp.abs(jim_dec - bilby_dec)\n",
    "    tol_diff_ra += diff_ra\n",
    "    tol_diff_dec += diff_dec\n",
    "    \n",
    "mean_ra_diff = tol_diff_ra / 100\n",
    "mean_dec_diff = tol_diff_dec / 100\n",
    "print(\"mean_ra_diff\", mean_ra_diff)\n",
    "print(\"mean_dec_diff\", mean_dec_diff)"
   ]
  },
  {
   "cell_type": "markdown",
   "metadata": {},
   "source": [
    "As seen in the above, the source of error in `SkyFrameToDetectorFrameSkyPositionTransform` would be the difference in calculating `gmst`. `Jim` and `bilby` use different algorithms for calculating `gmst`. This introduces an error of the order 1e-5 to `ra`. "
   ]
  }
 ],
 "metadata": {
  "kernelspec": {
   "display_name": "Python 3",
   "language": "python",
   "name": "python3"
  },
  "language_info": {
   "codemirror_mode": {
    "name": "ipython",
    "version": 3
   },
   "file_extension": ".py",
   "mimetype": "text/x-python",
   "name": "python",
   "nbconvert_exporter": "python",
   "pygments_lexer": "ipython3",
   "version": "3.11.8"
  }
 },
 "nbformat": 4,
 "nbformat_minor": 2
}
